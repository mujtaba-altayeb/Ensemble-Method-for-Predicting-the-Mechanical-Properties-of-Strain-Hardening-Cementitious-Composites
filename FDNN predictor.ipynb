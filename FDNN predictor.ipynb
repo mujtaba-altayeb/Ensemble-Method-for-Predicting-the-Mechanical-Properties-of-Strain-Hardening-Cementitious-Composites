{
 "cells": [
  {
   "cell_type": "markdown",
   "metadata": {},
   "source": [
    "# Importing necessary Modules"
   ]
  },
  {
   "cell_type": "code",
   "execution_count": 1,
   "metadata": {},
   "outputs": [
    {
     "name": "stderr",
     "output_type": "stream",
     "text": [
      "C:\\Program Files\\Python36\\lib\\site-packages\\sklearn\\externals\\joblib\\__init__.py:15: FutureWarning: sklearn.externals.joblib is deprecated in 0.21 and will be removed in 0.23. Please import this functionality directly from joblib, which can be installed with: pip install joblib. If this warning is raised when loading pickled models, you may need to re-serialize those models with scikit-learn 0.21+.\n",
      "  warnings.warn(msg, category=FutureWarning)\n"
     ]
    }
   ],
   "source": [
    "import numpy as np\n",
    "import pandas as pd\n",
    "import tensorflow as tf\n",
    "from sklearn.externals import joblib\n",
    "from normalization_coefficiants import * # this file contains the normalization coefficiants that were used on the dataset"
   ]
  },
  {
   "cell_type": "markdown",
   "metadata": {},
   "source": [
    "Below we specify the models inputs and target predictions"
   ]
  },
  {
   "cell_type": "code",
   "execution_count": 2,
   "metadata": {},
   "outputs": [],
   "source": [
    "X_cols = ['Cement (%W)', 'Water (%W)', 'Fine Agg (%W)', 'PCMs (%W)',\n",
    "          'Fly ash (%W)', 'Silica Fume (%W)', 'Cenposphere (%W)', 'BFS (%W)',\n",
    "          'Coarse Agg (%W)', 'AC (%W)', 'Superplasticiser (%W)',\n",
    "          'Fiber Amount (%W)', 'PVA', 'PE', 'STEEL', 'CaCO3',\n",
    "          'Polypropylene', 'Carbon', 'Glass', 'Basalt', 'UHMWPE',\n",
    "          'F. Diameter (Micro-Meter)', 'Fiber Length (mm)',\n",
    "          'Fiber Tensile Strength (Mpa)', 'Fiber Elastic Modulus (Gpa)',\n",
    "          'Rubber', 'Lightw Agg',\n",
    "          'MC (Viscosity Agent)', 'AEA', 'Oilling Agent/coating', 'HFV-Casting',\n",
    "          'Graphene Oxide', 'Defoamer', 'Temperature', 'Water Curing',\n",
    "          'Air Curing']\n",
    "\n",
    "NX_cols = ['Fiber Amount (%W)', 'PVA', 'PE', 'STEEL', 'CaCO3',\n",
    "           'Polypropylene', 'Carbon', 'Glass', 'Basalt', 'UHMWPE',\n",
    "           'F. Diameter (Micro-Meter)', 'Fiber Length (mm)',\n",
    "           'Fiber Tensile Strength (Mpa)', 'Fiber Elastic Modulus (Gpa)',\n",
    "           'cs', 'ux2', 'ux1', 'us1', 'fs2', 'fx1', 'fs1', 'fx2', 'us2']\n",
    "\n",
    "y_cols = ['cs', 'ux2', 'ux1', 'us1', 'fs2', 'fx1',\n",
    "          'fs1', 'fx2', 'us2']  # Modified for Information Gain\n",
    "full_feed = y_cols"
   ]
  },
  {
   "cell_type": "markdown",
   "metadata": {},
   "source": [
    "The Model uses sequential stacking technique to make its predictions.\n",
    "We first start by loading the random forest regressors, then we load the neural network models"
   ]
  },
  {
   "cell_type": "code",
   "execution_count": 3,
   "metadata": {},
   "outputs": [
    {
     "name": "stderr",
     "output_type": "stream",
     "text": [
      "WARNING: Logging before flag parsing goes to stderr.\n",
      "W0224 14:51:24.698518 24532 deprecation.py:506] From C:\\Program Files\\Python36\\lib\\site-packages\\tensorflow_core\\python\\ops\\init_ops.py:97: calling VarianceScaling.__init__ (from tensorflow.python.ops.init_ops) with dtype is deprecated and will be removed in a future version.\n",
      "Instructions for updating:\n",
      "Call initializer instance with the dtype argument instead of passing it to the constructor\n",
      "W0224 14:51:24.700518 24532 deprecation.py:506] From C:\\Program Files\\Python36\\lib\\site-packages\\tensorflow_core\\python\\ops\\init_ops.py:97: calling Zeros.__init__ (from tensorflow.python.ops.init_ops) with dtype is deprecated and will be removed in a future version.\n",
      "Instructions for updating:\n",
      "Call initializer instance with the dtype argument instead of passing it to the constructor\n",
      "W0224 14:51:24.733521 24532 deprecation.py:506] From C:\\Program Files\\Python36\\lib\\site-packages\\tensorflow_core\\python\\ops\\resource_variable_ops.py:1630: calling BaseResourceVariable.__init__ (from tensorflow.python.ops.resource_variable_ops) with constraint is deprecated and will be removed in a future version.\n",
      "Instructions for updating:\n",
      "If using Keras pass *_constraint arguments to layers.\n",
      "W0224 14:51:24.763507 24532 nn_ops.py:4283] Large dropout rate: 0.8 (>0.5). In TensorFlow 2.x, dropout() uses dropout rate instead of keep_prob. Please ensure that this is intended.\n",
      "W0224 14:51:24.836440 24532 deprecation.py:506] From C:\\Program Files\\Python36\\lib\\site-packages\\tensorflow_core\\python\\ops\\init_ops.py:97: calling GlorotUniform.__init__ (from tensorflow.python.ops.init_ops) with dtype is deprecated and will be removed in a future version.\n",
      "Instructions for updating:\n",
      "Call initializer instance with the dtype argument instead of passing it to the constructor\n",
      "W0224 14:51:25.699958 24532 nn_ops.py:4283] Large dropout rate: 0.8 (>0.5). In TensorFlow 2.x, dropout() uses dropout rate instead of keep_prob. Please ensure that this is intended.\n",
      "W0224 14:51:26.757353 24532 nn_ops.py:4283] Large dropout rate: 0.8 (>0.5). In TensorFlow 2.x, dropout() uses dropout rate instead of keep_prob. Please ensure that this is intended.\n",
      "W0224 14:51:27.999003 24532 nn_ops.py:4283] Large dropout rate: 0.8 (>0.5). In TensorFlow 2.x, dropout() uses dropout rate instead of keep_prob. Please ensure that this is intended.\n",
      "W0224 14:51:29.198618 24532 nn_ops.py:4283] Large dropout rate: 0.8 (>0.5). In TensorFlow 2.x, dropout() uses dropout rate instead of keep_prob. Please ensure that this is intended.\n"
     ]
    }
   ],
   "source": [
    "models = []\n",
    "\n",
    "for i, model_name in enumerate(y_cols):\n",
    "    feed = y_cols[0:i][:]\n",
    "\n",
    "    model = {\"name\": model_name,\n",
    "             \"X\": X_cols,\n",
    "             \"y\": [model_name],\n",
    "             \"feed\": feed}\n",
    "    models.append(model)\n",
    "\n",
    "rf = {}\n",
    "fN = {}\n",
    "\n",
    "for model in models:\n",
    "    name = model['name']\n",
    "\n",
    "    rf[name] = joblib.load(f\"Models/FRST/rf-{name}.pkl\")\n",
    "    fN[name] = tf.keras.models.load_model(f'Models/FDNN Ensemble/N-{name}.h5')"
   ]
  },
  {
   "cell_type": "markdown",
   "metadata": {},
   "source": [
    "# Encoding and Decoding Functions\n",
    "The FDNN models are trained using normalized data, therefore it is important that we normalize the data using min max normalization. The coefficiants for the inputs are stored in a separate file named \"normalization_coefficiants\".\n",
    "The predictions made using the $FDNN(X_s)$ are also normalized, therfore we use the decode function to convert them into the correct format."
   ]
  },
  {
   "cell_type": "code",
   "execution_count": null,
   "metadata": {},
   "outputs": [],
   "source": [
    "def encode(df):\n",
    "    encoded = []\n",
    "\n",
    "    for name, value in zip(df.columns, df.values.T):\n",
    "        value = float(value[0])\n",
    "        if name in y_cols:\n",
    "            V = y_decodes[name]\n",
    "        elif name in X_cols:\n",
    "            V = X_decodes[name]\n",
    "\n",
    "        val = (value - V[\"min\"]) / (V[\"max\"] - V[\"min\"])  # normalization\n",
    "        #val = (value - V[\"mean\"]) / V[\"std\"]\n",
    "        encoded.append(val)\n",
    "    V_en = pd.DataFrame(np.array(encoded), index=df.columns)\n",
    "    return V_en.T"
   ]
  },
  {
   "cell_type": "code",
   "execution_count": null,
   "metadata": {},
   "outputs": [],
   "source": [
    "def decode(df):\n",
    "    decoded = []\n",
    "\n",
    "    for name, value in zip(df.columns, df.values.T):\n",
    "        value = float(value[0])\n",
    "        if name in y_cols:\n",
    "            V = y_decodes[name]\n",
    "        elif name in X_cols:\n",
    "            V = X_decodes[name]\n",
    "\n",
    "        # val = (value * V[\"std\"]) + V[\"mean\"]  # standardiztion\n",
    "        val = value * (V[\"max\"] - V[\"min\"]) + V[\"min\"]  # normalization\n",
    "        decoded.append(val)\n",
    "    V_de = pd.DataFrame(np.array(decoded), index=df.columns)\n",
    "    return V_de.T"
   ]
  },
  {
   "cell_type": "markdown",
   "metadata": {},
   "source": [
    "# Prediction functions\n",
    "Making predictions using the ensemble model takes in regard that sequentail stacking needs to be performed, and since we are using sklearn and tensorflow, the prediction function is customized as seen below"
   ]
  },
  {
   "cell_type": "code",
   "execution_count": null,
   "metadata": {},
   "outputs": [],
   "source": [
    "def nan_predict(predictions):\n",
    "    array = []\n",
    "    for i in range(len(predictions)):\n",
    "        array.append(np.nan)\n",
    "    df = pd.DataFrame(np.array(array))\n",
    "    return df\n",
    "\n",
    "\n",
    "def get_predictions(predictions, column_names):\n",
    "    array = []\n",
    "    for i in range(len(predictions)):\n",
    "        array.append(predictions[i])\n",
    "    df = pd.DataFrame(np.array(array), columns=column_names)\n",
    "    return df\n",
    "\n",
    "\n",
    "def ensemble_predict(x):\n",
    "    list_of_xs = []\n",
    "    for value in x.values():\n",
    "        list_of_xs.append(value)\n",
    "\n",
    "    xs = np.array(list_of_xs).astype(np.float).reshape(1, -1)\n",
    "    xs = pd.DataFrame(xs, columns=X_cols)\n",
    "    xs = encode(xs)\n",
    "\n",
    "    y_pred = {}\n",
    "    for output in y_cols:\n",
    "        y_pred[output] = output\n",
    "\n",
    "    predictions = []\n",
    "\n",
    "    x_i = xs.copy()\n",
    "\n",
    "    for model in models:\n",
    "        name = model['name']\n",
    "        feed = full_feed\n",
    "\n",
    "        X_data = x_i.copy()\n",
    "\n",
    "        for feed_name in feed:\n",
    "            rf_predictions = rf[feed_name].predict(X_data)\n",
    "            rf_predictions = pd.DataFrame(rf_predictions, columns=[feed_name])\n",
    "            X_data = pd.concat([X_data, rf_predictions], axis=1)\n",
    "\n",
    "        X_data = X_data[y_cols]\n",
    "        fN_preds = fN[name].predict(X_data)\n",
    "\n",
    "        predictions.append(get_predictions(\n",
    "            fN_preds, [y_pred[name]]).values[0][0])\n",
    "\n",
    "    predictions = np.array(predictions).reshape(1, 9)\n",
    "    predictions = pd.DataFrame(predictions)\n",
    "    predictions.columns = y_cols\n",
    "    predictions = decode(predictions).values\n",
    "    predictions = predictions.flatten().tolist()\n",
    "\n",
    "    return predictions"
   ]
  },
  {
   "cell_type": "markdown",
   "metadata": {},
   "source": [
    "# Example prediction:\n",
    "We show how our FDNN model can be used to make a prediction for an SHCC mix design\n",
    "\n",
    "the predictions and true values for the properties are:\n",
    "* Compressive strength: prediction = 15.252 MPa, True value = 13.90 MPa\n",
    "* Peak tensile stress (ux2): prediction = 3.637 MPa, True value = 3.97 Mpa\n",
    "* Peak tensile strain (us2): prediction = 2.893 %, True value = 3.10 %\n",
    "\n",
    "and the prediction are shown after running the cell below"
   ]
  },
  {
   "cell_type": "code",
   "execution_count": null,
   "metadata": {},
   "outputs": [
    {
     "name": "stdout",
     "output_type": "stream",
     "text": [
      "\n",
      "\n",
      "Please Enter the Following Parameters: \n",
      "\n"
     ]
    },
    {
     "name": "stdin",
     "output_type": "stream",
     "text": [
      "Cement (%W) =  0.1128\n",
      "Water (%W) =  0.158\n",
      "Fine Agg (%W) =  0.219\n",
      "PCMs (%W) =  0\n",
      "Fly ash (%W) =  0.5\n",
      "Silica Fume (%W) =  0\n",
      "Cenposphere (%W) =  0\n",
      "BFS (%W) =  0\n",
      "Coarse Agg (%W) =  0\n",
      "AC (%W) =  0\n",
      "Superplasticiser (%W) =  0.0021\n",
      "Fiber Amount (%W) =  0.0126\n",
      "PVA =  0.02\n",
      "PE =  0\n",
      "STEEL =  0\n",
      "CaCO3 =  0\n",
      "Polypropylene =  0\n",
      "Carbon =  0\n",
      "Glass =  0\n",
      "Basalt =  0\n",
      "UHMWPE =  0\n",
      "F. Diameter (Micro-Meter) =  39\n",
      "Fiber Length (mm) =  12\n",
      "Fiber Tensile Strength (Mpa) =  1600\n",
      "Fiber Elastic Modulus (Gpa) =  42\n",
      "Rubber =  0\n",
      "Lightw Agg =  0\n",
      "MC (Viscosity Agent) =  0\n",
      "AEA =  0\n",
      "Oilling Agent/coating =  1\n",
      "HFV-Casting =  0\n",
      "Graphene Oxide =  0\n",
      "Defoamer =  0\n",
      "Temperature =  200\n",
      "Water Curing =  1\n",
      "Air Curing =  27\n"
     ]
    },
    {
     "name": "stdout",
     "output_type": "stream",
     "text": [
      "\n",
      "Please Wait for predictions...\n",
      "\n",
      "Compressive strength (cs) = 15.252283689379691\n",
      "peak tensile stress (ux2) = 3.637191435694694\n",
      "first crack tensile stress (ux1) = 2.5681637763977054\n",
      "first crack tensile strain (us1) = 0.0584994046189785\n",
      "peak flexural strain (fs2) = 4.25364328622818\n",
      "first crack flexural Strength (fx1) = 9.465974307060241\n",
      "first crack flexural strain (fs1) = 0.6121749324457987\n",
      " peak flexural strength (fx2) = 7.552531075477601\n",
      "peak tensile strain (us2) = 2.8930210228562356\n"
     ]
    }
   ],
   "source": [
    "# Mix Design Inputs\n",
    "x = {}\n",
    "exit_app = False\n",
    "\n",
    "while exit_app != True:\n",
    "    print(\"\\n\\nPlease Enter the Following Parameters: \\n\")\n",
    "\n",
    "    for name in X_cols:\n",
    "        x[name] = float(input(f\"{name} = \"))\n",
    "\n",
    "    print(\"\\nPlease Wait for predictions...\\n\")\n",
    "    mechanical_properties = ['Compressive strength (cs)',\n",
    "                            'peak tensile stress (ux2)',\n",
    "                            'first crack tensile stress (ux1)',\n",
    "                            'first crack tensile strain (us1)',\n",
    "                            'peak flexural strain (fs2)',\n",
    "                            'first crack flexural Strength (fx1)',\n",
    "                            'first crack flexural strain (fs1)',\n",
    "                            'peak flexural strength (fx2)',\n",
    "                            'peak tensile strain (us2)']\n",
    "    results = ensemble_predict(x)\n",
    "\n",
    "    for mp_name, p in zip(mechanical_properties, results):\n",
    "        print(f\"{mp_name} = {p}\")\n",
    "\n",
    "    exit_response = input(\"Press 'R' to make another prediction or another key to exit\")\n",
    "    if exit_response.lower() == 'r':\n",
    "        exit_app = True"
   ]
  }
 ],
 "metadata": {
  "kernelspec": {
   "display_name": "Python 3.6.8 64-bit",
   "language": "python",
   "name": "python36864bit0edbbbb433e04d96833c8d8294dddaf5"
  },
  "language_info": {
   "codemirror_mode": {
    "name": "ipython",
    "version": 3
   },
   "file_extension": ".py",
   "mimetype": "text/x-python",
   "name": "python",
   "nbconvert_exporter": "python",
   "pygments_lexer": "ipython3",
   "version": "3.6.8"
  }
 },
 "nbformat": 4,
 "nbformat_minor": 4
}
